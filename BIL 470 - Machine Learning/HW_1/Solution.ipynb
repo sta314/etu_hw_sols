{
  "cells": [
    {
      "cell_type": "code",
      "execution_count": null,
      "id": "97f168c2",
      "metadata": {
        "id": "97f168c2"
      },
      "outputs": [],
      "source": [
        "import numpy as np\n",
        "import matplotlib.pyplot as plt"
      ]
    },
    {
      "cell_type": "code",
      "execution_count": null,
      "id": "5d36b408",
      "metadata": {
        "id": "5d36b408"
      },
      "outputs": [],
      "source": [
        "# Generic variables\n",
        "\n",
        "numOfCoefficients = 286\n",
        "numOfFeatures = 285\n",
        "numOfSamples = 1000000\n",
        "percentageOfValidation = 0.20\n",
        "learningRate = 0.001\n",
        "threshold = 0.5\n",
        "\n",
        "# Define coefficient array and initialize with randoms\n",
        "\n",
        "coefficients = np.random.randn(numOfCoefficients)\n",
        "\n",
        "# Derived variables\n",
        "\n",
        "numOfValiSamples = int(numOfSamples * percentageOfValidation)\n",
        "numOfTrainSamples = numOfSamples - numOfValiSamples\n",
        "\n",
        "# Load train data\n",
        "\n",
        "train = np.loadtxt(fname='train.csv/train.csv', delimiter=',', max_rows=(numOfSamples), skiprows=1)\n",
        "\n",
        "# Data arrays\n",
        "\n",
        "trainAllFeatures = train[numOfValiSamples:, 1:-1]\n",
        "trainTargets = train[numOfValiSamples:, -1]\n",
        "valiAllFeatures = train[:numOfValiSamples, 1:-1]\n",
        "valiTargets = train[:numOfValiSamples, -1]\n",
        "accuracy = []"
      ]
    },
    {
      "cell_type": "code",
      "execution_count": null,
      "id": "076c5d0d",
      "metadata": {
        "id": "076c5d0d"
      },
      "outputs": [],
      "source": [
        "# Sigmoid Function\n",
        "\n",
        "def sigmoid(z):\n",
        "    return 1/(1 + np.exp(-z))"
      ]
    },
    {
      "cell_type": "code",
      "execution_count": null,
      "id": "b7b2f475",
      "metadata": {
        "id": "b7b2f475"
      },
      "outputs": [],
      "source": [
        "# This function can calculate z from given coefficients and features\n",
        "\n",
        "def calculateZ(coefficients, features):\n",
        "    sum = coefficients[0]\n",
        "    for i in range (numOfFeatures):\n",
        "        sum += features[i] * coefficients[i + 1]\n",
        "    return sum\n",
        "\n",
        "# This function return f cap\n",
        "\n",
        "def calculateYCap(coefficients, features):\n",
        "    return sigmoid(calculateZ(coefficients, features))"
      ]
    },
    {
      "cell_type": "code",
      "execution_count": null,
      "id": "050ef06c",
      "metadata": {
        "id": "050ef06c"
      },
      "outputs": [],
      "source": [
        "def logLikelihoodSub(coefficients, features, target):\n",
        "    yCap = calculateYCap(coefficients, features)\n",
        "    epsilon = 1e-7\n",
        "    yCap = np.maximum(np.full(yCap.shape, epsilon), np.minimum(np.full(yCap.shape, 1-epsilon), yCap))\n",
        "    return np.sum(target*np.log(yCap)+(1-target)*np.log(1-yCap))\n",
        "\n",
        "def logLikelihood(coefficients, allFeatures, targets):\n",
        "    llhood = 0\n",
        "    for i in range(numOfCoefficients):\n",
        "        llhood *= logLikelihoodSub(coefficients, allFeatures[i], targets[i])\n",
        "    return llhood"
      ]
    },
    {
      "cell_type": "code",
      "execution_count": null,
      "id": "9cc18211",
      "metadata": {
        "id": "9cc18211"
      },
      "outputs": [],
      "source": [
        "# Accuracy Calculator\n",
        "def calculateAccuracyOneSample(coefficients, features, target):\n",
        "    YCap = calculateYCap(coefficients, features)\n",
        "    isItHit = False\n",
        "    \n",
        "    if YCap >= threshold:\n",
        "        prediction = 1\n",
        "    else:\n",
        "        prediction = 0\n",
        "    \n",
        "    if prediction == target:\n",
        "        isItHit = True\n",
        "    \n",
        "    return 1 if isItHit else 0\n",
        "\n",
        "def calculateAccuracy(coefficients, valiAllFeatures, valiTargets):\n",
        "    hit = 0\n",
        "    \n",
        "    for i in range(numOfValiSamples):\n",
        "        hit += calculateAccuracyOneSample(coefficients, valiAllFeatures[i], valiTargets[i])\n",
        "    \n",
        "    return hit/numOfValiSamples\n"
      ]
    },
    {
      "cell_type": "code",
      "execution_count": null,
      "id": "fc4d0709",
      "metadata": {
        "id": "fc4d0709",
        "outputId": "fd7258d3-441e-4c19-e4bc-28a3c73ecfb7"
      },
      "outputs": [],
      "source": [
        "# Stochastic Gradient Ascent Implementation\n",
        "\n",
        "def SGAOneFeature(residual, Bj, Xj, learningrate):\n",
        "    return Bj + learningrate * (residual * Xj)\n",
        "def SGAOneFeatureB0(residual, B0, learningrate):\n",
        "    return B0 + learningrate * residual\n",
        "\n",
        "def SGAOneSample(coefficients, features, target, learningrate):\n",
        "    residual = target - calculateYCap(coefficients, features)\n",
        "\n",
        "    updatedCoefficients = coefficients\n",
        "    updatedCoefficients[0] = SGAOneFeatureB0(residual, coefficients[0], learningrate)\n",
        "    for i in range(1, numOfCoefficients):\n",
        "        updatedCoefficients[i] = SGAOneFeature(residual, coefficients[i], features[i-1], learningrate)\n",
        "    \n",
        "    return updatedCoefficients\n",
        "        \n",
        "def SGAOneEpoch(coefficients, allFeatures, targets, learningrate):\n",
        "    \n",
        "    for i in range(numOfTrainSamples):\n",
        "        #print(i)#debug\n",
        "        coefficients = SGAOneSample(coefficients, allFeatures[i], targets[i], learningrate)\n",
        "    \n",
        "    return coefficients\n",
        "\n",
        "def SGA(coefficients, allFeatures, targets, learningrate):\n",
        "    \n",
        "    print (\"Initial Accuracy : \", calculateAccuracy(coefficients, valiAllFeatures, valiTargets))\n",
        "    for i in range (1000):\n",
        "        coefficients = SGAOneEpoch(coefficients, allFeatures, targets, learningrate)\n",
        "        accuracy.append(calculateAccuracy(coefficients, valiAllFeatures, valiTargets))\n",
        "        print (\"Epoch \", (i + 1) ,\": Accuracy : \", accuracy[-1])\n",
        "\n",
        "SGA(coefficients, trainAllFeatures, trainTargets, learningRate)"
      ]
    },
    {
      "cell_type": "code",
      "execution_count": null,
      "id": "240a800f",
      "metadata": {
        "id": "240a800f"
      },
      "outputs": [],
      "source": [
        "plt.plot(range(len(accuracy)), accuracy)\n",
        "plt.xlabel(\"Batch\")\n",
        "plt.ylabel(\"Accuracy\")\n",
        "plt.title(\"BATCH GRADIENT ASCENT\")\n",
        "plt.show()"
      ]
    },
    {
      "cell_type": "code",
      "execution_count": null,
      "id": "ee9c16ab",
      "metadata": {
        "id": "ee9c16ab"
      },
      "outputs": [],
      "source": []
    },
    {
      "cell_type": "code",
      "execution_count": null,
      "id": "65d45c0b",
      "metadata": {
        "colab": {
          "base_uri": "https://localhost:8080/",
          "height": 589
        },
        "id": "65d45c0b",
        "outputId": "8efeccf6-19e9-4a04-bc72-2e23943a09e0"
      },
      "outputs": [],
      "source": [
        "# Minibatch Gradient Ascent Implementation (Can be used for batch too)\n",
        "\n",
        "batchAmount = 10\n",
        "batchSize = int(numOfTrainSamples/batchAmount)\n",
        "        \n",
        "def MGAOneBatch(coefficients, allFeatures, targets, learningrate, batchSize):\n",
        "    \n",
        "    #Initialize residuals\n",
        "    residuals = np.zeros(batchSize)\n",
        "    for i in range(batchSize):\n",
        "        residuals[i] = targets[i] - calculateYCap(coefficients, allFeatures[i])\n",
        "    \n",
        "    coefficients[0] += learningrate * np.sum(residuals)\n",
        "    \n",
        "    for j in range(numOfCoefficients - 1):\n",
        "        coefficients[j + 1] += learningrate * np.dot(residuals, allFeatures[:, j])\n",
        "        \n",
        "    return coefficients\n",
        "\n",
        "def MGAOneEpoch(coefficients, allFeatures, targets, learningrate, batchSize):\n",
        "    \n",
        "    for i in range(int(numOfTrainSamples/batchSize)):\n",
        "        coefficients = MGAOneBatch(coefficients, allFeatures[batchSize*i:batchSize*(i+1)], targets[batchSize*i:batchSize*(i+1)], learningrate, batchSize)\n",
        "    return coefficients\n",
        "    \n",
        "    \n",
        "def MGA(coefficients, allFeatures, targets, learningrate, batchSize):\n",
        "    \n",
        "    print (\"Initial Accuracy : \", calculateAccuracy(coefficients, valiAllFeatures, valiTargets))\n",
        "    for i in range (1000):\n",
        "        coefficients = MGAOneEpoch(coefficients, allFeatures, targets, learningrate, batchSize)\n",
        "        accuracy.append(calculateAccuracy(coefficients, valiAllFeatures, valiTargets))\n",
        "        print (\"Epoch \", (i + 1) ,\": Accuracy : \", accuracy[-1])\n",
        "\n",
        "MGA(coefficients, trainAllFeatures, trainTargets, learningRate, batchAmount)"
      ]
    },
    {
      "cell_type": "code",
      "execution_count": null,
      "id": "HZPQSAnsAPPj",
      "metadata": {
        "colab": {
          "base_uri": "https://localhost:8080/",
          "height": 295
        },
        "id": "HZPQSAnsAPPj",
        "outputId": "e78299ba-88a9-42b8-b2cb-c5bbc07642ec"
      },
      "outputs": [],
      "source": [
        "plt.plot(range(len(accuracy)), accuracy)\n",
        "plt.xlabel(\"Batch\")\n",
        "plt.ylabel(\"Accuracy\")\n",
        "plt.title(\"Batch size 10, Learning rate 0.001 Gradient Ascent\")\n",
        "plt.show()"
      ]
    }
  ],
  "metadata": {
    "colab": {
      "provenance": []
    },
    "kernelspec": {
      "display_name": "Python 3 (ipykernel)",
      "language": "python",
      "name": "python3"
    },
    "language_info": {
      "codemirror_mode": {
        "name": "ipython",
        "version": 3
      },
      "file_extension": ".py",
      "mimetype": "text/x-python",
      "name": "python",
      "nbconvert_exporter": "python",
      "pygments_lexer": "ipython3",
      "version": "3.9.7"
    }
  },
  "nbformat": 4,
  "nbformat_minor": 5
}
